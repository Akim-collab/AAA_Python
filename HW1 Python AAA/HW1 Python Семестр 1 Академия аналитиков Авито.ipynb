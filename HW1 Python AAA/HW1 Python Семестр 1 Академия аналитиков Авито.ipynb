{
 "cells": [
  {
   "cell_type": "code",
   "execution_count": 126,
   "metadata": {},
   "outputs": [],
   "source": [
    "class CountVectorizer():\n",
    "    \n",
    "    @staticmethod\n",
    "    def converting_matrix_into_single_row(matrix):\n",
    "        lst = []\n",
    "        for line in matrix:\n",
    "            lst += line\n",
    "        return lst\n",
    "    \n",
    "    def fit_transform(self, corpus):\n",
    "        corpus = [text.split() for text in [text.lower() for text in corpus]]\n",
    "        self.feature_names = list(set(CountVectorizer.converting_matrix_into_single_row(corpus)))\n",
    "        count_matrix = []\n",
    "        for i in range(len(corpus)):\n",
    "            dict_features = dict.fromkeys(self.feature_names, 0)\n",
    "            for j in range(len(corpus[i])):\n",
    "                    dict_features[corpus[i][j]] += 1 \n",
    "            count_matrix.append(list(dict_features.values()))\n",
    "        return count_matrix\n",
    "    \n",
    "    def get_feature_names(self):\n",
    "        return self.feature_names"
   ]
  },
  {
   "cell_type": "markdown",
   "metadata": {},
   "source": [
    "## Тесты"
   ]
  },
  {
   "cell_type": "code",
   "execution_count": 138,
   "metadata": {},
   "outputs": [
    {
     "name": "stdout",
     "output_type": "stream",
     "text": [
      "['crock', 'never', 'ingredients', 'pot', 'to', 'boil', 'again', 'parmesan', 'taste', 'pasta', 'pomodoro', 'fresh']\n",
      "[[1, 1, 0, 1, 0, 1, 1, 0, 0, 2, 0, 0], [0, 0, 1, 0, 1, 0, 0, 1, 1, 1, 1, 1]]\n"
     ]
    }
   ],
   "source": [
    "corpus = [\n",
    "    'Crock Pot Pasta Never boil pasta again',\n",
    "    'Pasta Pomodoro Fresh ingredients Parmesan to taste'\n",
    "]\n",
    "vectorizer = CountVectorizer()\n",
    "count_matrix = vectorizer.fit_transform(corpus)\n",
    "\n",
    "print(vectorizer.get_feature_names())\n",
    "print(count_matrix)"
   ]
  },
  {
   "cell_type": "code",
   "execution_count": 139,
   "metadata": {},
   "outputs": [
    {
     "name": "stdout",
     "output_type": "stream",
     "text": [
      "['crock', 'ingredients', 'to', 'parmesan', 'taste', 'fresh', 'pomodoro', 'pasta']\n",
      "[[7, 0, 0, 0, 0, 0, 0, 0], [0, 1, 1, 1, 1, 1, 1, 1]]\n"
     ]
    }
   ],
   "source": [
    "corpus = [\n",
    "    'Crock Crock Crock Crock Crock Crock Crock',\n",
    "    'Pasta Pomodoro Fresh ingredients Parmesan to taste'\n",
    "]\n",
    "vectorizer = CountVectorizer()\n",
    "count_matrix = vectorizer.fit_transform(corpus)\n",
    "\n",
    "print(vectorizer.get_feature_names())\n",
    "print(count_matrix)"
   ]
  },
  {
   "cell_type": "code",
   "execution_count": 140,
   "metadata": {},
   "outputs": [
    {
     "name": "stdout",
     "output_type": "stream",
     "text": [
      "['crock']\n",
      "[[7], [6]]\n"
     ]
    }
   ],
   "source": [
    "corpus = [\n",
    "    'Crock Crock Crock Crock Crock Crock Crock',\n",
    "    'Crock Crock Crock Crock Crock Crock'\n",
    "]\n",
    "vectorizer = CountVectorizer()\n",
    "count_matrix = vectorizer.fit_transform(corpus)\n",
    "\n",
    "print(vectorizer.get_feature_names())\n",
    "print(count_matrix)"
   ]
  },
  {
   "cell_type": "code",
   "execution_count": 141,
   "metadata": {},
   "outputs": [
    {
     "name": "stdout",
     "output_type": "stream",
     "text": [
      "['crock']\n",
      "[[1], [1]]\n"
     ]
    }
   ],
   "source": [
    "corpus = [\n",
    "    'Crock',\n",
    "    'Crock'\n",
    "]\n",
    "vectorizer = CountVectorizer()\n",
    "count_matrix = vectorizer.fit_transform(corpus)\n",
    "\n",
    "print(vectorizer.get_feature_names())\n",
    "print(count_matrix)"
   ]
  }
 ],
 "metadata": {
  "kernelspec": {
   "display_name": "Python 3",
   "language": "python",
   "name": "python3"
  },
  "language_info": {
   "codemirror_mode": {
    "name": "ipython",
    "version": 3
   },
   "file_extension": ".py",
   "mimetype": "text/x-python",
   "name": "python",
   "nbconvert_exporter": "python",
   "pygments_lexer": "ipython3",
   "version": "3.8.5"
  }
 },
 "nbformat": 4,
 "nbformat_minor": 4
}
